{
 "cells": [
  {
   "cell_type": "code",
   "execution_count": null,
   "metadata": {},
   "outputs": [],
   "source": [
    "from datasets import load_dataset\n",
    "from transformers.s2tdataset import S2TDataset\n",
    "\n",
    "ds_train = load_dataset(\"librispeech_asr\", \"clean\", split=\"train.100\")\n",
    "ds_validate = load_dataset(\"librispeech_asr\", \"clean\", split=\"validation\")\n",
    "\n",
    "print(ds_train)\n",
    "\n",
    "s2tData = S2TDataset(ds_train, None)\n",
    "valData = S2TDataset(ds_validate, None)\n"
   ]
  },
  {
   "cell_type": "code",
   "execution_count": null,
   "metadata": {},
   "outputs": [],
   "source": [
    "for a in ds_train:\n",
    "    print(a[\"text\"])\n",
    "    break"
   ]
  },
  {
   "cell_type": "code",
   "execution_count": null,
   "metadata": {},
   "outputs": [],
   "source": [
    "from transformers import Speech2TextForConditionalGeneration, Speech2TextProcessor\n",
    "\n",
    "model = Speech2TextForConditionalGeneration.from_pretrained(\"facebook/s2t-small-librispeech-asr\")\n",
    "processor = Speech2TextProcessor.from_pretrained(\"facebook/s2t-small-librispeech-asr\")\n",
    "\n",
    "\n",
    "ds = load_dataset(\"hf-internal-testing/librispeech_asr_demo\", \"clean\", split=\"validation\")\n",
    "\n",
    "for sample in ds:\n",
    "    sample_audio = sample[\"audio\"]\n",
    "    inputs = processor(sample_audio[\"array\"], sampling_rate=sample_audio[\"sampling_rate\"], return_tensors=\"pt\")\n",
    "    generated_ids = model.generate(inputs[\"input_features\"], attention_mask=inputs[\"attention_mask\"])\n",
    "    transcription = processor.batch_decode(generated_ids, skip_special_tokens=True)\n",
    "    print(transcription)\n",
    "\n"
   ]
  },
  {
   "cell_type": "code",
   "execution_count": null,
   "metadata": {},
   "outputs": [],
   "source": []
  }
 ],
 "metadata": {
  "kernelspec": {
   "display_name": "cs769",
   "language": "python",
   "name": "python3"
  },
  "language_info": {
   "codemirror_mode": {
    "name": "ipython",
    "version": 3
   },
   "file_extension": ".py",
   "mimetype": "text/x-python",
   "name": "python",
   "nbconvert_exporter": "python",
   "pygments_lexer": "ipython3",
   "version": "3.11.1"
  },
  "orig_nbformat": 4
 },
 "nbformat": 4,
 "nbformat_minor": 2
}
