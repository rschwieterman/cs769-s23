{
 "cells": [
  {
   "cell_type": "code",
   "execution_count": null,
   "metadata": {},
   "outputs": [],
   "source": [
    "from datasets import load_dataset\n",
    "from transformers.s2tdataset import S2TDataset\n",
    "\n",
    "ds_train = load_dataset(\"librispeech_asr\", \"clean\", split=\"train.100\")\n",
    "ds_validate = load_dataset(\"librispeech_asr\", \"clean\", split=\"validation\")\n",
    "\n",
    "print(ds_train)\n",
    "\n",
    "s2tData = S2TDataset(ds_train, None)\n",
    "valData = S2TDataset(ds_validate, None)\n"
   ]
  },
  {
   "cell_type": "code",
   "execution_count": null,
   "metadata": {},
   "outputs": [],
   "source": [
    "from transformers import Speech2TextProcessor\n",
    "tokenizer = Speech2TextProcessor.from_pretrained(\"facebook/s2t-small-librispeech-asr\").tokenizer\n",
    "tokenizer(text=\"<pad>\")[\"input_ids\"][0]"
   ]
  },
  {
   "cell_type": "code",
   "execution_count": null,
   "metadata": {},
   "outputs": [],
   "source": [
    "import numpy as np\n",
    "\n",
    "keywords = [\"up\", \"down\", \"left\", \"right\", \"yes\", \"no\", \"on\", \"off\", \"go\", \"stop\"]\n",
    "keyword_ids = np.array(list(map(lambda keyword: tokenizer(text=keyword)[\"input_ids\"][0], keywords)))\n",
    "keyword_ids"
   ]
  },
  {
   "cell_type": "code",
   "execution_count": null,
   "metadata": {},
   "outputs": [],
   "source": [
    "sent_in = np.array([[70, 105, 1234, 0, 0, 0], [0, 0, 0, 110, 914, 70]])\n",
    "np.array(list(list(kw in sentence for kw in keyword_ids) for sentence in sent_in), dtype=int)"
   ]
  },
  {
   "cell_type": "code",
   "execution_count": null,
   "metadata": {},
   "outputs": [],
   "source": [
    "from pipe import select, traverse\n",
    "from collections import Counter\n",
    "\n",
    "Counter(\n",
    "    ds_train\n",
    "    | select(lambda x: x[\"text\"].split(\" \"))\n",
    "    | traverse\n",
    ").most_common(100)"
   ]
  }
 ],
 "metadata": {
  "kernelspec": {
   "display_name": "cs769",
   "language": "python",
   "name": "python3"
  },
  "language_info": {
   "codemirror_mode": {
    "name": "ipython",
    "version": 3
   },
   "file_extension": ".py",
   "mimetype": "text/x-python",
   "name": "python",
   "nbconvert_exporter": "python",
   "pygments_lexer": "ipython3",
   "version": "3.11.1"
  },
  "orig_nbformat": 4
 },
 "nbformat": 4,
 "nbformat_minor": 2
}
